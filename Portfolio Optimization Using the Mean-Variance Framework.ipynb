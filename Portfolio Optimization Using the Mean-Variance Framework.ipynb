{
 "cells": [
  {
   "attachments": {},
   "cell_type": "markdown",
   "metadata": {},
   "source": [
    "<div style=\"text-align: center;\">\n",
    "    <h1>Portfolio Optimization Using the Mean-Variance Framework</h1>\n",
    "</div>"
   ]
  },
  {
   "attachments": {},
   "cell_type": "markdown",
   "metadata": {},
   "source": [
    "## Introduction\n"
   ]
  },
  {
   "attachments": {},
   "cell_type": "markdown",
   "metadata": {},
   "source": [
    "\n",
    "Building the best possible investment portfolio is a fundamental goal for investors in the world of finance. During the portfolio optimization process, each asset combination is carefully chosen to optimize predicted return while lowering associated risk. Investors can strive to obtain the best possible trade-off between risk and return by diversifying their investments over a variety of assets.\n",
    "\n",
    "The `mean-variance` framework is one of the most popular models for portfolio optimization. The predicted returns and the covariance matrix of asset returns are taken into account in this framework to give a systematic method for allocating investments.\n",
    "\n",
    "In this `Python` notebook, we will explore the concept of portfolio optimization using the mean-variance framework and implement it in a practical setting. We will leverage the power of `Python`'s scientific libraries, such as `NumPy`, `pandas`, and `matplotlib`, to perform the necessary calculations and visualize the results.\n",
    "\n",
    "The notebook will guide you through the following key steps:\n",
    "\n",
    "1. `Data Preparation and preprocessing`: We will start by gathering historical price data for a set of assets and calculating the corresponding returns. This data will serve as the foundation for our portfolio optimization process.\n",
    "\n",
    "2. `Mean and Covariance Estimation`: We will calculate the mean returns and covariance matrix of the asset returns. These statistics are crucial inputs for the mean-variance optimization model.\n",
    "\n",
    "3. `Portfolio Optimization`: Using the estimated mean returns and covariance matrix, we will formulate the optimization problem to find the optimal allocation of assets. We will define the objective function, constraints, and optimization algorithm to solve for the optimal portfolio weights.\n",
    "\n",
    "4. `Evaluation and Analysis`: We will evaluate the performance of the optimized portfolio by calculating its expected return and risk measures.\n",
    "\n",
    "5. `Efficient Frontier`: We will plot the efficient frontier, which represents the set of optimal portfolios that offer the highest expected returns for a given level of risk. This visualization will aid in selecting an appropriate portfolio based on an investor's risk appetite.\n",
    "\n",
    "By the end of this notebook, you will have a thorough understanding of the mean-variance portfolio optimization framework and its useful Python implementation . With this information, you'll be better equipped to build diverse portfolios, make wise investment choices, and negotiate the confusing world of financial markets.\n",
    "\n",
    "So let's dive in the fascinating world of portfolio optimization and discover how to maximize risk-adjusted returns!\n",
    "\n"
   ]
  },
  {
   "attachments": {},
   "cell_type": "markdown",
   "metadata": {},
   "source": [
    "## 1. Data Preparation and preprocessing\n"
   ]
  },
  {
   "attachments": {},
   "cell_type": "markdown",
   "metadata": {},
   "source": [
    "### 1.1 Data preparation"
   ]
  },
  {
   "cell_type": "code",
   "execution_count": 367,
   "metadata": {},
   "outputs": [
    {
     "data": {
      "text/html": [
       "<div>\n",
       "<style scoped>\n",
       "    .dataframe tbody tr th:only-of-type {\n",
       "        vertical-align: middle;\n",
       "    }\n",
       "\n",
       "    .dataframe tbody tr th {\n",
       "        vertical-align: top;\n",
       "    }\n",
       "\n",
       "    .dataframe thead th {\n",
       "        text-align: right;\n",
       "    }\n",
       "</style>\n",
       "<table border=\"1\" class=\"dataframe\">\n",
       "  <thead>\n",
       "    <tr style=\"text-align: right;\">\n",
       "      <th></th>\n",
       "      <th>Stock1</th>\n",
       "      <th>Stock2</th>\n",
       "      <th>Stock3</th>\n",
       "    </tr>\n",
       "  </thead>\n",
       "  <tbody>\n",
       "    <tr>\n",
       "      <th>0</th>\n",
       "      <td>37.454012</td>\n",
       "      <td>30.424224</td>\n",
       "      <td>6.505159</td>\n",
       "    </tr>\n",
       "    <tr>\n",
       "      <th>1</th>\n",
       "      <td>95.071431</td>\n",
       "      <td>52.475643</td>\n",
       "      <td>94.888554</td>\n",
       "    </tr>\n",
       "    <tr>\n",
       "      <th>2</th>\n",
       "      <td>73.199394</td>\n",
       "      <td>43.194502</td>\n",
       "      <td>96.563203</td>\n",
       "    </tr>\n",
       "    <tr>\n",
       "      <th>3</th>\n",
       "      <td>59.865848</td>\n",
       "      <td>29.122914</td>\n",
       "      <td>80.839735</td>\n",
       "    </tr>\n",
       "    <tr>\n",
       "      <th>4</th>\n",
       "      <td>15.601864</td>\n",
       "      <td>61.185289</td>\n",
       "      <td>30.461377</td>\n",
       "    </tr>\n",
       "    <tr>\n",
       "      <th>5</th>\n",
       "      <td>15.599452</td>\n",
       "      <td>13.949386</td>\n",
       "      <td>9.767211</td>\n",
       "    </tr>\n",
       "    <tr>\n",
       "      <th>6</th>\n",
       "      <td>5.808361</td>\n",
       "      <td>29.214465</td>\n",
       "      <td>68.423303</td>\n",
       "    </tr>\n",
       "    <tr>\n",
       "      <th>7</th>\n",
       "      <td>86.617615</td>\n",
       "      <td>36.636184</td>\n",
       "      <td>44.015249</td>\n",
       "    </tr>\n",
       "    <tr>\n",
       "      <th>8</th>\n",
       "      <td>60.111501</td>\n",
       "      <td>45.606998</td>\n",
       "      <td>12.203823</td>\n",
       "    </tr>\n",
       "    <tr>\n",
       "      <th>9</th>\n",
       "      <td>70.807258</td>\n",
       "      <td>78.517596</td>\n",
       "      <td>49.517691</td>\n",
       "    </tr>\n",
       "    <tr>\n",
       "      <th>10</th>\n",
       "      <td>2.058449</td>\n",
       "      <td>19.967378</td>\n",
       "      <td>3.438852</td>\n",
       "    </tr>\n",
       "    <tr>\n",
       "      <th>11</th>\n",
       "      <td>96.990985</td>\n",
       "      <td>51.423444</td>\n",
       "      <td>90.932040</td>\n",
       "    </tr>\n",
       "    <tr>\n",
       "      <th>12</th>\n",
       "      <td>83.244264</td>\n",
       "      <td>59.241457</td>\n",
       "      <td>25.877998</td>\n",
       "    </tr>\n",
       "    <tr>\n",
       "      <th>13</th>\n",
       "      <td>21.233911</td>\n",
       "      <td>4.645041</td>\n",
       "      <td>66.252228</td>\n",
       "    </tr>\n",
       "    <tr>\n",
       "      <th>14</th>\n",
       "      <td>18.182497</td>\n",
       "      <td>60.754485</td>\n",
       "      <td>31.171108</td>\n",
       "    </tr>\n",
       "    <tr>\n",
       "      <th>15</th>\n",
       "      <td>18.340451</td>\n",
       "      <td>17.052412</td>\n",
       "      <td>52.006802</td>\n",
       "    </tr>\n",
       "  </tbody>\n",
       "</table>\n",
       "</div>"
      ],
      "text/plain": [
       "       Stock1     Stock2     Stock3\n",
       "0   37.454012  30.424224   6.505159\n",
       "1   95.071431  52.475643  94.888554\n",
       "2   73.199394  43.194502  96.563203\n",
       "3   59.865848  29.122914  80.839735\n",
       "4   15.601864  61.185289  30.461377\n",
       "5   15.599452  13.949386   9.767211\n",
       "6    5.808361  29.214465  68.423303\n",
       "7   86.617615  36.636184  44.015249\n",
       "8   60.111501  45.606998  12.203823\n",
       "9   70.807258  78.517596  49.517691\n",
       "10   2.058449  19.967378   3.438852\n",
       "11  96.990985  51.423444  90.932040\n",
       "12  83.244264  59.241457  25.877998\n",
       "13  21.233911   4.645041  66.252228\n",
       "14  18.182497  60.754485  31.171108\n",
       "15  18.340451  17.052412  52.006802"
      ]
     },
     "metadata": {},
     "output_type": "display_data"
    }
   ],
   "source": [
    "# Imports\n",
    "import pandas as pd\n",
    "import numpy as np\n",
    "import matplotlib.pyplot as plt\n",
    "from scipy.optimize import minimize\n",
    "from IPython.display import display\n",
    "\n",
    "# Generate random prices for three stocks\n",
    "np.random.seed(42)\n",
    "stock1_prices = 100*np.random.rand(16)\n",
    "stock2_prices = 100*np.random.rand(16)\n",
    "stock3_prices = 100*np.random.rand(16)\n",
    "\n",
    "# Create a DataFrame to store the prices\n",
    "prices = pd.DataFrame({\n",
    "    'Stock1': stock1_prices,\n",
    "    'Stock2': stock2_prices,\n",
    "    'Stock3': stock3_prices\n",
    "})\n",
    "\n",
    "# Display the prices\n",
    "display(prices)"
   ]
  },
  {
   "attachments": {},
   "cell_type": "markdown",
   "metadata": {},
   "source": [
    "### 1.2. Data preprocessing using the logarithmic transformation"
   ]
  },
  {
   "attachments": {},
   "cell_type": "markdown",
   "metadata": {},
   "source": [
    "The preprocessing step involves calculating the log returns of the historical prices. Mathematically, this is done by taking the natural logarithm of the price ratios between consecutive time periods. The formula for calculating logarithmic returns is as follows:\n",
    "\n",
    "\\begin{align*}\n",
    "\\text{Logarithmic Return(t)} = ln(\\frac{\\text{Price(t)}}{\\text{Price(t-1)}})\n",
    "\\end{align*}\n",
    "\n",
    "In the given code snippet, the variable \"prices\" represents the historical price data. By applying the logarithm to the ratio of prices between consecutive time periods, we obtain the log returns.\n",
    "\n",
    "Log returns are preferred in financial analysis for several reasons:\n",
    "\n",
    "1. **`Normalization`**: Logarithmic returns help normalize the data by transforming absolute price changes into relative changes. This normalization can facilitate the comparison of returns across different assets or time periods.\n",
    "\n",
    "2. **`Additivity`**: Logarithmic returns have the property of additivity. When calculating the returns over multiple time periods, adding individual log returns yields the total log return for the combined period. This additivity simplifies subsequent calculations.\n",
    "\n",
    "3. **`Statistical Properties`**: Logarithmic returns tend to have more desirable statistical properties compared to simple returns. For example, log returns often exhibit a more symmetric distribution and can be closer to normality, which is beneficial for certain mathematical models and statistical analyses."
   ]
  },
  {
   "cell_type": "code",
   "execution_count": 368,
   "metadata": {},
   "outputs": [
    {
     "name": "stdout",
     "output_type": "stream",
     "text": [
      "The returns after the log transformation: \n"
     ]
    },
    {
     "data": {
      "text/html": [
       "<div>\n",
       "<style scoped>\n",
       "    .dataframe tbody tr th:only-of-type {\n",
       "        vertical-align: middle;\n",
       "    }\n",
       "\n",
       "    .dataframe tbody tr th {\n",
       "        vertical-align: top;\n",
       "    }\n",
       "\n",
       "    .dataframe thead th {\n",
       "        text-align: right;\n",
       "    }\n",
       "</style>\n",
       "<table border=\"1\" class=\"dataframe\">\n",
       "  <thead>\n",
       "    <tr style=\"text-align: right;\">\n",
       "      <th></th>\n",
       "      <th>Stock1</th>\n",
       "      <th>Stock2</th>\n",
       "      <th>Stock3</th>\n",
       "    </tr>\n",
       "  </thead>\n",
       "  <tbody>\n",
       "    <tr>\n",
       "      <th>1</th>\n",
       "      <td>0.931515</td>\n",
       "      <td>0.545110</td>\n",
       "      <td>2.680107</td>\n",
       "    </tr>\n",
       "    <tr>\n",
       "      <th>2</th>\n",
       "      <td>-0.261441</td>\n",
       "      <td>-0.194636</td>\n",
       "      <td>0.017495</td>\n",
       "    </tr>\n",
       "    <tr>\n",
       "      <th>3</th>\n",
       "      <td>-0.201081</td>\n",
       "      <td>-0.394188</td>\n",
       "      <td>-0.177729</td>\n",
       "    </tr>\n",
       "    <tr>\n",
       "      <th>4</th>\n",
       "      <td>-1.344716</td>\n",
       "      <td>0.742382</td>\n",
       "      <td>-0.976009</td>\n",
       "    </tr>\n",
       "    <tr>\n",
       "      <th>5</th>\n",
       "      <td>-0.000155</td>\n",
       "      <td>-1.478471</td>\n",
       "      <td>-1.137429</td>\n",
       "    </tr>\n",
       "    <tr>\n",
       "      <th>6</th>\n",
       "      <td>-0.987937</td>\n",
       "      <td>0.739228</td>\n",
       "      <td>1.946682</td>\n",
       "    </tr>\n",
       "    <tr>\n",
       "      <th>7</th>\n",
       "      <td>2.702205</td>\n",
       "      <td>0.226372</td>\n",
       "      <td>-0.441177</td>\n",
       "    </tr>\n",
       "    <tr>\n",
       "      <th>8</th>\n",
       "      <td>-0.365302</td>\n",
       "      <td>0.219025</td>\n",
       "      <td>-1.282787</td>\n",
       "    </tr>\n",
       "    <tr>\n",
       "      <th>9</th>\n",
       "      <td>0.163760</td>\n",
       "      <td>0.543262</td>\n",
       "      <td>1.400581</td>\n",
       "    </tr>\n",
       "    <tr>\n",
       "      <th>10</th>\n",
       "      <td>-3.538009</td>\n",
       "      <td>-1.369223</td>\n",
       "      <td>-2.667192</td>\n",
       "    </tr>\n",
       "    <tr>\n",
       "      <th>11</th>\n",
       "      <td>3.852665</td>\n",
       "      <td>0.945994</td>\n",
       "      <td>3.274975</td>\n",
       "    </tr>\n",
       "    <tr>\n",
       "      <th>12</th>\n",
       "      <td>-0.152839</td>\n",
       "      <td>0.141527</td>\n",
       "      <td>-1.256719</td>\n",
       "    </tr>\n",
       "    <tr>\n",
       "      <th>13</th>\n",
       "      <td>-1.366180</td>\n",
       "      <td>-2.545821</td>\n",
       "      <td>0.940076</td>\n",
       "    </tr>\n",
       "    <tr>\n",
       "      <th>14</th>\n",
       "      <td>-0.155140</td>\n",
       "      <td>2.571041</td>\n",
       "      <td>-0.753977</td>\n",
       "    </tr>\n",
       "    <tr>\n",
       "      <th>15</th>\n",
       "      <td>0.008650</td>\n",
       "      <td>-1.270549</td>\n",
       "      <td>0.511883</td>\n",
       "    </tr>\n",
       "  </tbody>\n",
       "</table>\n",
       "</div>"
      ],
      "text/plain": [
       "      Stock1    Stock2    Stock3\n",
       "1   0.931515  0.545110  2.680107\n",
       "2  -0.261441 -0.194636  0.017495\n",
       "3  -0.201081 -0.394188 -0.177729\n",
       "4  -1.344716  0.742382 -0.976009\n",
       "5  -0.000155 -1.478471 -1.137429\n",
       "6  -0.987937  0.739228  1.946682\n",
       "7   2.702205  0.226372 -0.441177\n",
       "8  -0.365302  0.219025 -1.282787\n",
       "9   0.163760  0.543262  1.400581\n",
       "10 -3.538009 -1.369223 -2.667192\n",
       "11  3.852665  0.945994  3.274975\n",
       "12 -0.152839  0.141527 -1.256719\n",
       "13 -1.366180 -2.545821  0.940076\n",
       "14 -0.155140  2.571041 -0.753977\n",
       "15  0.008650 -1.270549  0.511883"
      ]
     },
     "metadata": {},
     "output_type": "display_data"
    }
   ],
   "source": [
    "# Calculate log returns\n",
    "returns = np.log(prices / prices.shift(1))\n",
    "print(\"The returns after the log transformation: \")\n",
    "returns = returns.dropna()\n",
    "display(returns)"
   ]
  },
  {
   "attachments": {},
   "cell_type": "markdown",
   "metadata": {},
   "source": [
    "## 2. Mean and covariance estimation"
   ]
  },
  {
   "attachments": {},
   "cell_type": "markdown",
   "metadata": {},
   "source": [
    "### 2.1. Before the Preprocessing"
   ]
  },
  {
   "cell_type": "code",
   "execution_count": 369,
   "metadata": {},
   "outputs": [
    {
     "name": "stdout",
     "output_type": "stream",
     "text": [
      "The mean vector:\n"
     ]
    },
    {
     "data": {
      "text/html": [
       "<div>\n",
       "<style scoped>\n",
       "    .dataframe tbody tr th:only-of-type {\n",
       "        vertical-align: middle;\n",
       "    }\n",
       "\n",
       "    .dataframe tbody tr th {\n",
       "        vertical-align: top;\n",
       "    }\n",
       "\n",
       "    .dataframe thead th {\n",
       "        text-align: right;\n",
       "    }\n",
       "</style>\n",
       "<table border=\"1\" class=\"dataframe\">\n",
       "  <thead>\n",
       "    <tr style=\"text-align: right;\">\n",
       "      <th></th>\n",
       "      <th>Mean</th>\n",
       "    </tr>\n",
       "  </thead>\n",
       "  <tbody>\n",
       "    <tr>\n",
       "      <th>Stock1</th>\n",
       "      <td>47.511706</td>\n",
       "    </tr>\n",
       "    <tr>\n",
       "      <th>Stock2</th>\n",
       "      <td>39.588214</td>\n",
       "    </tr>\n",
       "    <tr>\n",
       "      <th>Stock3</th>\n",
       "      <td>47.679021</td>\n",
       "    </tr>\n",
       "  </tbody>\n",
       "</table>\n",
       "</div>"
      ],
      "text/plain": [
       "             Mean\n",
       "Stock1  47.511706\n",
       "Stock2  39.588214\n",
       "Stock3  47.679021"
      ]
     },
     "metadata": {},
     "output_type": "display_data"
    },
    {
     "name": "stdout",
     "output_type": "stream",
     "text": [
      "The covariance matrix: \n"
     ]
    },
    {
     "data": {
      "text/html": [
       "<div>\n",
       "<style scoped>\n",
       "    .dataframe tbody tr th:only-of-type {\n",
       "        vertical-align: middle;\n",
       "    }\n",
       "\n",
       "    .dataframe tbody tr th {\n",
       "        vertical-align: top;\n",
       "    }\n",
       "\n",
       "    .dataframe thead th {\n",
       "        text-align: right;\n",
       "    }\n",
       "</style>\n",
       "<table border=\"1\" class=\"dataframe\">\n",
       "  <thead>\n",
       "    <tr style=\"text-align: right;\">\n",
       "      <th></th>\n",
       "      <th>Stock1</th>\n",
       "      <th>Stock2</th>\n",
       "      <th>Stock3</th>\n",
       "    </tr>\n",
       "  </thead>\n",
       "  <tbody>\n",
       "    <tr>\n",
       "      <th>Stock1</th>\n",
       "      <td>1158.318388</td>\n",
       "      <td>348.792969</td>\n",
       "      <td>527.556760</td>\n",
       "    </tr>\n",
       "    <tr>\n",
       "      <th>Stock2</th>\n",
       "      <td>348.792969</td>\n",
       "      <td>416.841717</td>\n",
       "      <td>61.623588</td>\n",
       "    </tr>\n",
       "    <tr>\n",
       "      <th>Stock3</th>\n",
       "      <td>527.556760</td>\n",
       "      <td>61.623588</td>\n",
       "      <td>1052.813346</td>\n",
       "    </tr>\n",
       "  </tbody>\n",
       "</table>\n",
       "</div>"
      ],
      "text/plain": [
       "             Stock1      Stock2       Stock3\n",
       "Stock1  1158.318388  348.792969   527.556760\n",
       "Stock2   348.792969  416.841717    61.623588\n",
       "Stock3   527.556760   61.623588  1052.813346"
      ]
     },
     "metadata": {},
     "output_type": "display_data"
    }
   ],
   "source": [
    "# Calculate mean and covariance of prices\n",
    "mu = prices.mean()  \n",
    "cov = prices.cov() \n",
    "print (\"The mean vector:\")\n",
    "display(pd.DataFrame({\"Mean\":mu}))\n",
    "print(\"The covariance matrix: \")\n",
    "display(pd.DataFrame(cov))\n",
    "mu = np.array(mu)\n",
    "cov = np.array(cov)"
   ]
  },
  {
   "attachments": {},
   "cell_type": "markdown",
   "metadata": {},
   "source": [
    "### 2.2. After the Preprocessing"
   ]
  },
  {
   "cell_type": "code",
   "execution_count": 370,
   "metadata": {},
   "outputs": [
    {
     "name": "stdout",
     "output_type": "stream",
     "text": [
      "The mean vector after the log transformation:\n"
     ]
    },
    {
     "data": {
      "text/html": [
       "<div>\n",
       "<style scoped>\n",
       "    .dataframe tbody tr th:only-of-type {\n",
       "        vertical-align: middle;\n",
       "    }\n",
       "\n",
       "    .dataframe tbody tr th {\n",
       "        vertical-align: top;\n",
       "    }\n",
       "\n",
       "    .dataframe thead th {\n",
       "        text-align: right;\n",
       "    }\n",
       "</style>\n",
       "<table border=\"1\" class=\"dataframe\">\n",
       "  <thead>\n",
       "    <tr style=\"text-align: right;\">\n",
       "      <th></th>\n",
       "      <th>Mean</th>\n",
       "    </tr>\n",
       "  </thead>\n",
       "  <tbody>\n",
       "    <tr>\n",
       "      <th>Stock1</th>\n",
       "      <td>-0.047600</td>\n",
       "    </tr>\n",
       "    <tr>\n",
       "      <th>Stock2</th>\n",
       "      <td>-0.038596</td>\n",
       "    </tr>\n",
       "    <tr>\n",
       "      <th>Stock3</th>\n",
       "      <td>0.138585</td>\n",
       "    </tr>\n",
       "  </tbody>\n",
       "</table>\n",
       "</div>"
      ],
      "text/plain": [
       "            Mean\n",
       "Stock1 -0.047600\n",
       "Stock2 -0.038596\n",
       "Stock3  0.138585"
      ]
     },
     "metadata": {},
     "output_type": "display_data"
    },
    {
     "name": "stdout",
     "output_type": "stream",
     "text": [
      "The covariance matrix after the log transformation:\n"
     ]
    },
    {
     "data": {
      "text/html": [
       "<div>\n",
       "<style scoped>\n",
       "    .dataframe tbody tr th:only-of-type {\n",
       "        vertical-align: middle;\n",
       "    }\n",
       "\n",
       "    .dataframe tbody tr th {\n",
       "        vertical-align: top;\n",
       "    }\n",
       "\n",
       "    .dataframe thead th {\n",
       "        text-align: right;\n",
       "    }\n",
       "</style>\n",
       "<table border=\"1\" class=\"dataframe\">\n",
       "  <thead>\n",
       "    <tr style=\"text-align: right;\">\n",
       "      <th></th>\n",
       "      <th>Stock1</th>\n",
       "      <th>Stock2</th>\n",
       "      <th>Stock3</th>\n",
       "    </tr>\n",
       "  </thead>\n",
       "  <tbody>\n",
       "    <tr>\n",
       "      <th>Stock1</th>\n",
       "      <td>2.890247</td>\n",
       "      <td>0.788438</td>\n",
       "      <td>1.614644</td>\n",
       "    </tr>\n",
       "    <tr>\n",
       "      <th>Stock2</th>\n",
       "      <td>0.788438</td>\n",
       "      <td>1.545810</td>\n",
       "      <td>0.426721</td>\n",
       "    </tr>\n",
       "    <tr>\n",
       "      <th>Stock3</th>\n",
       "      <td>1.614644</td>\n",
       "      <td>0.426721</td>\n",
       "      <td>2.706962</td>\n",
       "    </tr>\n",
       "  </tbody>\n",
       "</table>\n",
       "</div>"
      ],
      "text/plain": [
       "          Stock1    Stock2    Stock3\n",
       "Stock1  2.890247  0.788438  1.614644\n",
       "Stock2  0.788438  1.545810  0.426721\n",
       "Stock3  1.614644  0.426721  2.706962"
      ]
     },
     "metadata": {},
     "output_type": "display_data"
    }
   ],
   "source": [
    "# Calculate mean and covariance of returns\n",
    "log_mu = returns.mean()\n",
    "log_cov = returns.cov()\n",
    "print (\"The mean vector after the log transformation:\")\n",
    "display(pd.DataFrame({\"Mean\":log_mu}))\n",
    "print(\"The covariance matrix after the log transformation:\")\n",
    "display(pd.DataFrame(log_cov))\n",
    "log_mu = np.array(log_mu)\n",
    "log_cov = np.array(log_cov)"
   ]
  },
  {
   "attachments": {},
   "cell_type": "markdown",
   "metadata": {},
   "source": [
    "## 3. Portfolio Optimization\n"
   ]
  },
  {
   "attachments": {},
   "cell_type": "markdown",
   "metadata": {},
   "source": [
    "### 3.1. Defining the objective function for portfolio optimization"
   ]
  },
  {
   "attachments": {},
   "cell_type": "markdown",
   "metadata": {},
   "source": [
    "The objective function in portfolio optimization, $F(w)$, combines different components to find an optimal allocation of assets. It can be mathematically represented as:\n",
    "\n",
    "\\begin{align*} \n",
    "\\text{Objective Function} = \\text{Portfolio Risk} + \\text{Penalty}\n",
    "\\end{align*}\n",
    "\n",
    "1. **`Portfolio Risk`**: The portfolio risk measures the uncertainty or volatility of the portfolio's returns. It is typically represented by the standard deviation of the portfolio returns. The portfolio risk can be computed using the following formula:\n",
    "\n",
    "   \\begin{align*}\n",
    "   \\text{Portfolio Risk} = \\sqrt{w^T \\cdot C_{log} \\cdot w}\n",
    "   \\end{align*}\n",
    "\n",
    "   Here, $w$ represents the vector of portfolio weights, and $C_{log}$ is the logarithmic covariance matrix of asset returns.\n",
    "\n",
    "2. **`Penalty`**: The penalty term is included to enforce the desired target return in the optimization process. The penalty encourages the portfolio to approach the target return by penalizing deviations from it. Mathematically, the penalty term can be expressed as:\n",
    "\n",
    "   \\begin{align*}\n",
    "   \\text{Penalty} = P \\cdot \\left|\\bar V - (1 + T) V\\right|\n",
    "   \\end{align*}\n",
    "\n",
    "   Here, **$\\bar V$** represents the expected return of the portfolio, **$P$** is a parameter that controls the strength of the penalty, **$T$** is the desired target return, and **$V$** is the value of the portfolio.\n",
    "   \n",
    "   **Note**:\n",
    "   \n",
    "   \\begin{align*}\n",
    "   \\bar V = w^T \\cdot \\mu_{log}\\\\ \\text{ and } V = w^T \\cdot \\Gamma\n",
    "   \\end{align*}\n",
    "   where $\\mu_{log}$ denotes the logarithmic expected returns and $\\Gamma$ is the return in the last period.\n",
    "   \n",
    "\n",
    "By summing the portfolio risk and the penalty term, the objective function aims to find the optimal weights that minimize the risk of the portfolio while considering the deviation from the target return.\n",
    "\n",
    "The total formula of the objective function, combining the portfolio risk and the penalty term, is as follows:\n",
    "\n",
    "\\begin{align*}\n",
    "F(w) = \\sqrt{w^T \\cdot C_{log} \\cdot w} + P \\cdot \\left| \\bar V - (1 + T) \\cdot V \\right|\n",
    "     = \\sqrt{w^T \\cdot C_{log} \\cdot w} + P \\cdot \\left|w^T \\cdot (\\mu_{log} - (1 + T) \\cdot \\Gamma)\\right|\n",
    "\\end{align*}\n",
    "\n",
    "\n",
    "It's important to note that the specific formulas and mathematical representations may vary depending on the optimization approach or methodology used. However, the key idea remains consistent: to balance risk and return while incorporating a penalty for deviations from the desired target return.\n"
   ]
  },
  {
   "cell_type": "code",
   "execution_count": 371,
   "metadata": {},
   "outputs": [],
   "source": [
    "# Define objective function for portfolio optimization\n",
    "def objective(weights, log_mu, log_cov, target_return,penalty_weight):\n",
    "    portfolio_return = log_mu @ weights\n",
    "    portfolio_risk = np.sqrt(np.dot(weights.T, np.dot(log_cov, weights)))\n",
    "    portfolio_value = np.dot(weights, returns.iloc[-1].values.T)\n",
    "    penalty = penalty_weight * np.abs(portfolio_return - (1 + target_return)*portfolio_value)\n",
    "    return portfolio_risk + penalty"
   ]
  },
  {
   "attachments": {},
   "cell_type": "markdown",
   "metadata": {},
   "source": [
    "### 3.2. Setting the bounds, constraints, target return, and penalty weight for the problem"
   ]
  },
  {
   "attachments": {},
   "cell_type": "markdown",
   "metadata": {},
   "source": [
    "Here in this cell, we define the parameters for this specific problem. Here's a brief explanation of the role of each parameter:\n",
    "\n",
    "1. **`Constraints`**: The constraints parameter is used to define the constraints for portfolio optimization. In this case, the constraint is defined as the sum of all weights assigned to assets in the portfolio equaling 1. This constraint ensures that the portfolio fully invests its resources, meaning that all weights sum up to 1, representing a fully invested portfolio.\n",
    "\n",
    "2. **`Bounds`**: The bounds parameter is used to set the upper and lower bounds for the weights assigned to assets in the portfolio. In this case, the bounds are set between 0 and 1 for each asset. These bounds indicate that the weight for each asset can range from 0% to 100% of the total portfolio allocation, ensuring that the portfolio is long-only (no short-selling) and fully invested.\n",
    "\n",
    "3. **`Target Return`**: The target return parameter is used to define the desired expected return for the portfolio optimization. In this case, a target return of 0.1 (or 10%) is set. The portfolio optimization algorithm will try to find the optimal set of weights that achieves this target return while minimizing the portfolio risk.\n",
    "\n",
    "4. **`Penalty Weight`**: The penalty weight parameter is a positive reel number used to determine the relative importance of the penalty term in the objective function for portfolio optimization. The penalty term is added to the objective function to control the deviation of the portfolio's return from the target return. A higher penalty weight places more emphasis on achieving the target return precisely, while a lower penalty weight allows for more flexibility in optimizing the risk-return trade-off.\n",
    "\n",
    "I invite you to mess around with the last two parameters to gain an insight on their influence on our model."
   ]
  },
  {
   "cell_type": "code",
   "execution_count": 372,
   "metadata": {},
   "outputs": [],
   "source": [
    "# Define constraints for portfolio optimization\n",
    "constraints = ({'type': 'eq', 'fun': lambda x: np.sum(x) - 1})\n",
    "\n",
    "# Define bounds for portfolio optimization\n",
    "bounds = tuple((0, 1) for i in range(len(log_mu)))\n",
    "\n",
    "# Define target return for portfolio optimization\n",
    "target_return = 0.10\n",
    "\n",
    "# Define relative importance of penalty for portfolio optimization\n",
    "penalty_weight = 0.10"
   ]
  },
  {
   "attachments": {},
   "cell_type": "markdown",
   "metadata": {},
   "source": [
    "### 3.3. Optimizing the weights"
   ]
  },
  {
   "cell_type": "code",
   "execution_count": 373,
   "metadata": {},
   "outputs": [
    {
     "name": "stdout",
     "output_type": "stream",
     "text": [
      "The optimal portfolio weights are : [0.09216173 0.5742721  0.33356617]\n"
     ]
    }
   ],
   "source": [
    "# Optimize portfolio weights\n",
    "result = minimize(objective, x0 = np.ones(len(log_mu))/len(log_mu), args=(log_mu, log_cov, target_return,penalty_weight), method='SLSQP', bounds=bounds, constraints=constraints)\n",
    "# Print optimized portfolio weights\n",
    "print(f'The optimal portfolio weights are : {result.x}')"
   ]
  },
  {
   "attachments": {},
   "cell_type": "markdown",
   "metadata": {},
   "source": [
    "## 4. Evaluation and Analysis"
   ]
  },
  {
   "attachments": {},
   "cell_type": "markdown",
   "metadata": {},
   "source": [
    "The following analysis presents the evaluation of a portfolio optimization process, along with the corresponding results:"
   ]
  },
  {
   "cell_type": "code",
   "execution_count": 374,
   "metadata": {},
   "outputs": [
    {
     "name": "stdout",
     "output_type": "stream",
     "text": [
      "The value of the optimal portfolio: 28.831$\n",
      "The expected return: 43.017$\n",
      "The risk associated to this portfolio: 18.905$\n",
      "This portfolio generates 49.21% in returns of its value.\n"
     ]
    }
   ],
   "source": [
    "# Calculate the value of the portfolio\n",
    "portfolio_value = np.dot(result.x, prices.iloc[-1].values.T)\n",
    "print(f\"The value of the optimal portfolio: {portfolio_value:0.3f}$\")\n",
    "\n",
    "# Calculate portfolio return and risk\n",
    "portfolio_return = np.sum(mu @ result.x)\n",
    "portfolio_risk = np.sqrt(np.dot(result.x.T, np.dot(cov, result.x)))\n",
    "print(f\"The expected return: {portfolio_return:0.3f}$\")\n",
    "print(f\"The risk associated to this portfolio: {portfolio_risk:0.3f}$\")\n",
    "\n",
    "# The return percentage\n",
    "print(f\"This portfolio generates {(portfolio_return - portfolio_value) * 100 / portfolio_value :0.2f}% in returns of its value.\")"
   ]
  },
  {
   "attachments": {},
   "cell_type": "markdown",
   "metadata": {},
   "source": [
    "\n",
    "The following analysis presents the evaluation of a portfolio optimization process, along with the corresponding results, based on a target return of 10%:\n",
    "\n",
    "1. **`Portfolio Value`**: The optimal portfolio has a value of $28.831. This value represents the total worth of the portfolio, considering the weights assigned to each asset.\n",
    "\n",
    "2. **`Expected Return`**: The expected return of the portfolio is 43.017%. This indicates the anticipated average gain or loss of the portfolio over a specific period. A higher expected return suggests the potential for higher profitability.\n",
    "\n",
    "3. **`Portfolio Risk`**: The risk associated with the portfolio is measured by the portfolio risk metric, which is 18.905%. This value represents the standard deviation or volatility of the portfolio's returns. A lower portfolio risk implies a more stable and less volatile investment.\n",
    "\n",
    "4. **`Return Percentage`**: The portfolio generates a return of 49.21% relative to its value. This metric represents the percentage gain or loss in value that the portfolio has generated. A positive return percentage indicates a profit, while a negative value implies a loss.\n",
    "\n",
    "Considering the target return of 5%, it is important to note that the expected return of the optimized portfolio exceeds the target. This suggests that the portfolio has the potential to generate higher returns than the desired 5%.\n",
    "\n",
    "To meet the target return, you may need to adjust the portfolio weights or consider alternative investment options. It's crucial to strike a balance between risk and return based on your individual risk tolerance and investment objectives.\n",
    "\n"
   ]
  },
  {
   "attachments": {},
   "cell_type": "markdown",
   "metadata": {},
   "source": [
    "## 5. The efficient frontier"
   ]
  },
  {
   "attachments": {},
   "cell_type": "markdown",
   "metadata": {},
   "source": [
    "The `efficient frontier` is a fundamental concept in portfolio optimization, which aims to find the optimal trade-off between risk and return. It represents a set of portfolios that offer the highest expected return for a given level of risk or the lowest risk for a given expected return. Mathematically, the efficient frontier can be expressed as follows:\n",
    "\n",
    "Let $\\boldsymbol{\\mu_{log}}$ be the vector of expected logarithmic returns for the assets in the portfolio, and $\\boldsymbol{C_{log}}$ be the logarithmic covariance matrix of asset returns. The efficient frontier can be obtained by solving the following optimization problem:\n",
    "\n",
    "\n",
    "\\begin{align*}\n",
    "\\text{Minimize} & \\quad \\boldsymbol{w}^T\\boldsymbol{C_{log}}\\boldsymbol{w} \\\\\n",
    "\\text{Subject to} & \\quad \\boldsymbol{w}^T\\boldsymbol{\\mu_{log}} = \\bar{\\mu _{log}} \\\\\n",
    "& \\quad \\boldsymbol{w}^T\\boldsymbol{1} = 1 \\\\\n",
    "\\end{align*}\n",
    "\n",
    "\n",
    "where $\\boldsymbol{w}$ represents the weights assigned to each asset in the portfolio, $\\boldsymbol{1}$ is a vector of ones, and $\\bar{\\mu _{log}}$ is the target expected return.\n",
    "\n",
    "Note that the [$\\boldsymbol{w}^T\\boldsymbol{1} = 1$] is equivalent to saying that [the sum of all weights is equal to 1].\n",
    "\n",
    "In the code cell provided, we plot the efficient frontier by varying the expected return, $\\bar{\\mu _{log}}$, and solving the optimization problem to minimize portfolio risk, $\\boldsymbol{w}^T\\boldsymbol{C}\\boldsymbol{w}$. The resulting plot illustrates the risk-return trade-off, with the x-axis representing risk (standard deviation) and the y-axis representing return (expected portfolio return). By examining the efficient frontier, investors can identify the optimal portfolios that suit their risk preferences and investment objectives.\n"
   ]
  },
  {
   "cell_type": "code",
   "execution_count": 375,
   "metadata": {},
   "outputs": [
    {
     "data": {
      "image/png": "[encoded data removed]",
      "text/plain": [
       "<Figure size 640x480 with 1 Axes>"
      ]
     },
     "metadata": {},
     "output_type": "display_data"
    }
   ],
   "source": [
    "# Plot efficient frontier\n",
    "def efficient_frontier_objective(weights, log_cov):\n",
    "    return np.dot(weights.T, np.dot(log_cov, weights))  \n",
    " \n",
    "mus = np.linspace(log_mu.min(), log_mu.max(), 100)\n",
    "risks = []\n",
    "for m in mus:\n",
    "    constraints = ({'type': 'eq', 'fun': lambda x: np.sum(x) - 1},\n",
    "                   {'type': 'eq', 'fun': lambda x, m=m: np.sum(log_mu * x) - m})\n",
    "    efficient_frontier_result = minimize(efficient_frontier_objective, x0=np.ones(len(log_mu))/len(log_mu), args=(log_cov,), method='SLSQP', bounds=bounds, constraints=constraints)\n",
    "    risks.append(efficient_frontier_result.fun)\n",
    "plt.plot(risks, mus, label='Efficient Frontier')\n",
    "plt.scatter(np.dot(result.x.T, np.dot(log_cov, result.x)),np.sum(log_mu @ result.x),color='r', label='Optimal Portfolio')\n",
    "plt.xlabel('Risk')\n",
    "plt.ylabel('Return')\n",
    "plt.title('Efficient Frontier')\n",
    "plt.legend()\n",
    "plt.show()"
   ]
  },
  {
   "attachments": {},
   "cell_type": "markdown",
   "metadata": {},
   "source": [
    "## 6. The influence of the penalty weight"
   ]
  },
  {
   "attachments": {},
   "cell_type": "markdown",
   "metadata": {},
   "source": [
    "The penalty weight in portfolio optimization determines the strength of the penalty imposed on deviations from the target return. By varying the penalty weight, we can observe different impacts on the optimal portfolios and the efficient frontier.\n",
    "\n",
    "In the given code, the penalty weights are defined as `0`, `0.5`, & `10`, and the optimization is performed for each penalty weight. Here's an interpretation of the impact of different penalty weights:\n",
    "\n",
    "1. **`Penalty Weight = 0`**: When the penalty weight is set to 0, there is no penalty imposed on deviations from the target return. This means that the optimization focuses solely on minimizing the portfolio risk while disregarding the target return. The resulting optimal portfolios will lie on the efficient frontier without any consideration for the desired return.\n",
    "\n",
    "2. **`Penalty Weight = 0.5`**: With a non-zero penalty weight, deviations from the target return are taken into account. A penalty weight of 0.5 indicates a moderate penalty on the deviations. As a result, the optimization will try to balance between minimizing the portfolio risk and approaching the target return. The optimal portfolios will be influenced by both risk and the desired return.\n",
    "\n",
    "3. **`Penalty Weight = 10`**: A high penalty weight of 10 implies a strong penalty on deviations from the target return. This indicates a greater emphasis on achieving the desired return at the expense of increased risk. The optimization will prioritize portfolios that closely match the target return, potentially resulting in higher risk levels compared to the previous cases.\n",
    "\n",
    "By plotting the optimal portfolios for different penalty weights along with the efficient frontier, you can visually observe how the penalty weight affects the distribution of optimal portfolios in terms of risk and return."
   ]
  },
  {
   "cell_type": "code",
   "execution_count": 376,
   "metadata": {},
   "outputs": [
    {
     "data": {
      "image/png": "[encoded data removed]",
      "text/plain": [
       "<Figure size 640x480 with 1 Axes>"
      ]
     },
     "metadata": {},
     "output_type": "display_data"
    }
   ],
   "source": [
    "# Define penalty weights\n",
    "penalty_weights = [0,0.5,10]\n",
    "# Define constraints for portfolio optimization\n",
    "constraints = ({'type': 'eq', 'fun': lambda x: np.sum(x) - 1})\n",
    "# Colors\n",
    "color = ['y','m','c']\n",
    "results=[]\n",
    "for penalty_weight in penalty_weights:\n",
    "    # Optimize portfolio weights\n",
    "    result = minimize(objective, x0 = np.ones(len(log_mu))/len(log_mu), args=(log_mu, log_cov, target_return,penalty_weight), method='SLSQP', bounds=bounds, constraints=constraints)\n",
    "    results.append(result)\n",
    "# Plot efficient frontier & optimal portfolios\n",
    "for i,result in enumerate(results):\n",
    "    plt.scatter(np.dot(result.x.T, np.dot(log_cov, result.x)),np.sum(log_mu @ result.x), label=f'OP for P = {penalty_weights[i]}',color=color[i])\n",
    "plt.plot(risks, mus, label='Efficient Frontier')\n",
    "plt.xlabel('Risk')\n",
    "plt.ylabel('Return')\n",
    "plt.title('OP = Optimal Portfolio')\n",
    "plt.legend()\n",
    "plt.show()"
   ]
  },
  {
   "attachments": {},
   "cell_type": "markdown",
   "metadata": {},
   "source": [
    "## Conclusion"
   ]
  },
  {
   "attachments": {},
   "cell_type": "markdown",
   "metadata": {},
   "source": [
    "In our Python notebook, we investigated portfolio optimization using the mean-variance framework. We built the procedure for creating an ideal investment portfolio using Python's scientific libraries.\n",
    "\n",
    "We learned how to maximize returns while reducing risk through data preparation, mean and covariance estimation, and portfolio optimization. The efficient frontier plot helped in portfolio selection based on risk preferences by visualizing the risk-return trade-off.\n",
    "\n",
    "This notebook offers a framework for portfolio optimization, but real-world situations might call for other factors to be taken into account. It is vital to continuously monitor and make modifications.\n",
    "\n",
    "With these skills, you can explore advanced techniques, expand analysis to different assets or strategies, and make informed decisions to optimize portfolios.\n",
    "\n",
    "Happy portfolio optimization, and may your investments flourish with optimal risk-adjusted returns!"
   ]
  }
 ],
 "metadata": {
  "kernelspec": {
   "display_name": "Python 3",
   "language": "python",
   "name": "python3"
  },
  "language_info": {
   "codemirror_mode": {
    "name": "ipython",
    "version": 3
   },
   "file_extension": ".py",
   "mimetype": "text/x-python",
   "name": "python",
   "nbconvert_exporter": "python",
   "pygments_lexer": "ipython3",
   "version": "3.10.4"
  },
  "orig_nbformat": 4
 },
 "nbformat": 4,
 "nbformat_minor": 2
}
